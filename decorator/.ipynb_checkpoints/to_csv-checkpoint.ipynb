{
 "cells": [
  {
   "cell_type": "code",
   "execution_count": null,
   "id": "f2888a27-8e6a-4e41-9bb3-7e1dcf394ae2",
   "metadata": {},
   "outputs": [],
   "source": [
    "import pandas as pd"
   ]
  },
  {
   "cell_type": "code",
   "execution_count": null,
   "id": "f27c4aae-902d-49a7-89bb-9066b37923dd",
   "metadata": {},
   "outputs": [],
   "source": [
    "name_dict = {\n",
    "            'Name': ['a','b','c','d'],\n",
    "            'Score': [90,80,95,20]\n",
    "          }"
   ]
  },
  {
   "cell_type": "code",
   "execution_count": null,
   "id": "c66c87b3-d706-4927-80e2-2840f6d9236f",
   "metadata": {},
   "outputs": [],
   "source": [
    "df = pd.DataFrame(name_dict)"
   ]
  },
  {
   "cell_type": "code",
   "execution_count": null,
   "id": "a7a4a35f-8714-49e3-8232-d5221b3d08ca",
   "metadata": {},
   "outputs": [],
   "source": [
    "df"
   ]
  },
  {
   "cell_type": "code",
   "execution_count": null,
   "id": "f06749c9-05a2-438c-b84c-7ed3efd4b42c",
   "metadata": {},
   "outputs": [],
   "source": []
  }
 ],
 "metadata": {
  "kernelspec": {
   "display_name": "Python 3 (ipykernel)",
   "language": "python",
   "name": "python3"
  },
  "language_info": {
   "name": ""
  }
 },
 "nbformat": 4,
 "nbformat_minor": 5
}
